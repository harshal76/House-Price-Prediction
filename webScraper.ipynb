{
 "cells": [
  {
   "cell_type": "code",
   "execution_count": 7,
   "metadata": {},
   "outputs": [],
   "source": [
    "from selenium import webdriver\n",
    "from selenium.webdriver.chrome.options import Options\n",
    "import pandas as pd"
   ]
  },
  {
   "cell_type": "code",
   "execution_count": 8,
   "metadata": {},
   "outputs": [],
   "source": [
    "def chromeDriver():\n",
    "    \"\"\"Initiate chromedriver\"\"\"\n",
    "    \n",
    "    driver = webdriver.Chrome('C:\\webdriver\\chromedriver.exe')\n",
    "    \n",
    "    return driver"
   ]
  },
  {
   "cell_type": "code",
   "execution_count": 36,
   "metadata": {},
   "outputs": [],
   "source": [
    "def getURL(driver):\n",
    "    \"\"\"Get the html page from the URL\"\"\"\n",
    "    \n",
    "    url = str(input('Paste the link here'))\n",
    "    \n",
    "    driver.get(url)\n",
    "    \n",
    "    return url"
   ]
  },
  {
   "cell_type": "code",
   "execution_count": 31,
   "metadata": {},
   "outputs": [],
   "source": [
    "def processData(driver, url):\n",
    "    \"\"\"Process data to create a dataframe\"\"\"\n",
    "    \n",
    "    d = {'Jan':1, 'Feb':2, 'Mar':3, 'Apr':4, 'May':5, 'Jun':6, 'Jul':7, 'Aug':8, 'Sep':9, 'Oct':10, 'Nov':11, 'Dec':12}\n",
    "    dataSet = []\n",
    "    pun = '_'\n",
    "    \n",
    "    print('Processing the data...\\n')\n",
    "    \n",
    "    dates = driver.find_elements_by_xpath('//tbody/tr/td[1]')\n",
    "    sale = driver.find_elements_by_xpath('//tbody/tr/td[2]')\n",
    "    dollar_volume = driver.find_elements_by_xpath('//tbody/tr/td[3]')\n",
    "    average_price = driver.find_elements_by_xpath('//tbody/tr/td[4]')\n",
    "    median_price = driver.find_elements_by_xpath('//tbody/tr/td[5]')\n",
    "    total_listing = driver.find_elements_by_xpath('//tbody/tr/td[6]')\n",
    "    monthly_inventory = driver.find_elements_by_xpath('//tbody/tr/td[7]')\n",
    "    \n",
    "    for i in range(len(monthly_inventory)):\n",
    "        houses = {'Date':dates[i].text,\n",
    "             'Sales':sale[i].text,\n",
    "             'DollarVolume':dollar_volume[i].text,\n",
    "             'AveragePrice':average_price[i].text,\n",
    "             'MedianPrice':median_price[i].text,\n",
    "             'TotalListings':total_listing[i].text,\n",
    "             'MonthlyInventory':monthly_inventory[i].text}\n",
    "        dataSet.append(houses)\n",
    "    \n",
    "    df = pd.DataFrame(dataSet)\n",
    "    \n",
    "    df['MonthStr'] = df['Date'].str[:3]\n",
    "    df['Year'] = df['Date'].str[4:]\n",
    "    \n",
    "    df['Month'] = df.MonthStr.map(d)\n",
    "    \n",
    "    df = df.drop('Date', 1)\n",
    "    df = df.drop('MonthStr', 1)\n",
    "    \n",
    "    city = url.rsplit('/', 1)[-1]\n",
    "    city = city.replace(pun, '')\n",
    "    \n",
    "    df['City'] = city\n",
    "    \n",
    "    return df"
   ]
  },
  {
   "cell_type": "code",
   "execution_count": 37,
   "metadata": {},
   "outputs": [],
   "source": [
    "def writeToCsv(df):\n",
    "    \"\"\"Write the dataframe to csv\"\"\"\n",
    "    \n",
    "    FILE_PATH = '/Users/ML/'\n",
    "    \n",
    "    print('Writing to csv file...\\n')\n",
    "    df.to_csv(FILE_PATH+'housing.csv', mode = 'a', encoding='utf-8', index=False, header = False)\n",
    "    \n",
    "    print('Successfully written the dataframe to csv.\\n')"
   ]
  },
  {
   "cell_type": "code",
   "execution_count": 38,
   "metadata": {},
   "outputs": [],
   "source": [
    "def main():\n",
    "    \"\"\"Main Function\"\"\"\n",
    "    \n",
    "    #Initialize the chromedriver\n",
    "    driver = chromeDriver()\n",
    "    \n",
    "    #Get the url\n",
    "    url = getURL(driver)\n",
    "    \n",
    "    #Process the data\n",
    "    df = processData(driver, url)\n",
    "    \n",
    "    #Write to csv file\n",
    "    writeToCsv(df)\n",
    "    \n",
    "    print('End of program.')"
   ]
  },
  {
   "cell_type": "code",
   "execution_count": 40,
   "metadata": {},
   "outputs": [
    {
     "name": "stderr",
     "output_type": "stream",
     "text": [
      "<ipython-input-8-4aa7bfeda1e0>:4: DeprecationWarning: executable_path has been deprecated, please pass in a Service object\n",
      "  driver = webdriver.Chrome('C:\\webdriver\\chromedriver.exe')\n"
     ]
    },
    {
     "name": "stdin",
     "output_type": "stream",
     "text": [
      "Paste the link here https://www.recenter.tamu.edu/data/housing-activity/#!/activity/MSA/Dallas-Fort_Worth-Arlington\n"
     ]
    },
    {
     "name": "stdout",
     "output_type": "stream",
     "text": [
      "Processing the data...\n",
      "\n"
     ]
    },
    {
     "name": "stderr",
     "output_type": "stream",
     "text": [
      "<ipython-input-31-14e8e605037e>:10: DeprecationWarning: find_elements_by_xpath is deprecated. Please use find_elements(by=By.XPATH, value=xpath) instead\n",
      "  dates = driver.find_elements_by_xpath('//tbody/tr/td[1]')\n",
      "<ipython-input-31-14e8e605037e>:11: DeprecationWarning: find_elements_by_xpath is deprecated. Please use find_elements(by=By.XPATH, value=xpath) instead\n",
      "  sale = driver.find_elements_by_xpath('//tbody/tr/td[2]')\n",
      "<ipython-input-31-14e8e605037e>:12: DeprecationWarning: find_elements_by_xpath is deprecated. Please use find_elements(by=By.XPATH, value=xpath) instead\n",
      "  dollar_volume = driver.find_elements_by_xpath('//tbody/tr/td[3]')\n",
      "<ipython-input-31-14e8e605037e>:13: DeprecationWarning: find_elements_by_xpath is deprecated. Please use find_elements(by=By.XPATH, value=xpath) instead\n",
      "  average_price = driver.find_elements_by_xpath('//tbody/tr/td[4]')\n",
      "<ipython-input-31-14e8e605037e>:14: DeprecationWarning: find_elements_by_xpath is deprecated. Please use find_elements(by=By.XPATH, value=xpath) instead\n",
      "  median_price = driver.find_elements_by_xpath('//tbody/tr/td[5]')\n",
      "<ipython-input-31-14e8e605037e>:15: DeprecationWarning: find_elements_by_xpath is deprecated. Please use find_elements(by=By.XPATH, value=xpath) instead\n",
      "  total_listing = driver.find_elements_by_xpath('//tbody/tr/td[6]')\n",
      "<ipython-input-31-14e8e605037e>:16: DeprecationWarning: find_elements_by_xpath is deprecated. Please use find_elements(by=By.XPATH, value=xpath) instead\n",
      "  monthly_inventory = driver.find_elements_by_xpath('//tbody/tr/td[7]')\n"
     ]
    },
    {
     "name": "stdout",
     "output_type": "stream",
     "text": [
      "Writing to csv file...\n",
      "\n",
      "Successfully written the dataframe to csv.\n",
      "\n",
      "End of program.\n"
     ]
    }
   ],
   "source": [
    "main()"
   ]
  },
  {
   "cell_type": "code",
   "execution_count": null,
   "metadata": {},
   "outputs": [],
   "source": []
  }
 ],
 "metadata": {
  "kernelspec": {
   "display_name": "Python 3",
   "language": "python",
   "name": "python3"
  },
  "language_info": {
   "codemirror_mode": {
    "name": "ipython",
    "version": 3
   },
   "file_extension": ".py",
   "mimetype": "text/x-python",
   "name": "python",
   "nbconvert_exporter": "python",
   "pygments_lexer": "ipython3",
   "version": "3.8.5"
  }
 },
 "nbformat": 4,
 "nbformat_minor": 4
}
