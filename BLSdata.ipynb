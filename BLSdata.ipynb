{
 "cells": [
  {
   "cell_type": "code",
   "execution_count": 1,
   "metadata": {},
   "outputs": [],
   "source": [
    "import pandas as pd"
   ]
  },
  {
   "cell_type": "code",
   "execution_count": 105,
   "metadata": {},
   "outputs": [],
   "source": [
    "def getData():\n",
    "    \"\"\"Get the data\"\"\"\n",
    "    \n",
    "    FILE_PATH = '/Users/ML/data.txt'\n",
    "    \n",
    "    df = pd.read_csv(FILE_PATH, sep=',')\n",
    "    \n",
    "    df['Month'] = df['Period'].str[1:]\n",
    "    \n",
    "    df = df.drop('Series Id', 1)\n",
    "    df = df.drop('Period', 1)\n",
    "    \n",
    "    df['City'] = 'WichitaFalls'\n",
    "    \n",
    "    return df"
   ]
  },
  {
   "cell_type": "code",
   "execution_count": 106,
   "metadata": {},
   "outputs": [
    {
     "name": "stdout",
     "output_type": "stream",
     "text": [
      "Writing to csv file...\n",
      "\n",
      "Successfully written the dataframe to csv.\n",
      "\n",
      "End of program.\n"
     ]
    }
   ],
   "source": [
    "main()"
   ]
  },
  {
   "cell_type": "code",
   "execution_count": 54,
   "metadata": {},
   "outputs": [],
   "source": [
    "def writeToCsv(df):\n",
    "    \"\"\"Write the dataframe to csv\"\"\"\n",
    "    \n",
    "    FILE_PATH = '/Users/ML/'\n",
    "    \n",
    "    print('Writing to csv file...\\n')\n",
    "    df.to_csv(FILE_PATH+\"abileneEdu.csv\", mode = 'a', encoding = 'utf-8', index = False, header = False)\n",
    "    \n",
    "    print('Successfully written the dataframe to csv.\\n')"
   ]
  },
  {
   "cell_type": "code",
   "execution_count": 55,
   "metadata": {},
   "outputs": [],
   "source": [
    "def main():\n",
    "    \"\"\"Main Function\"\"\"\n",
    "    \n",
    "    #Get the url\n",
    "    df = getData()\n",
    "\n",
    "    #Write to csv file\n",
    "    writeToCsv(df)\n",
    "    \n",
    "    print('End of program.')"
   ]
  },
  {
   "cell_type": "code",
   "execution_count": 56,
   "metadata": {},
   "outputs": [
    {
     "name": "stdout",
     "output_type": "stream",
     "text": [
      "Writing to csv file...\n",
      "\n",
      "Successfully written the dataframe to csv.\n",
      "\n",
      "End of program.\n"
     ]
    }
   ],
   "source": [
    "main()"
   ]
  },
  {
   "cell_type": "code",
   "execution_count": null,
   "metadata": {},
   "outputs": [],
   "source": []
  }
 ],
 "metadata": {
  "kernelspec": {
   "display_name": "Python 3",
   "language": "python",
   "name": "python3"
  },
  "language_info": {
   "codemirror_mode": {
    "name": "ipython",
    "version": 3
   },
   "file_extension": ".py",
   "mimetype": "text/x-python",
   "name": "python",
   "nbconvert_exporter": "python",
   "pygments_lexer": "ipython3",
   "version": "3.8.5"
  }
 },
 "nbformat": 4,
 "nbformat_minor": 4
}
